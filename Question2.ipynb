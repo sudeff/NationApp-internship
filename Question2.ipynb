{
 "cells": [
  {
   "cell_type": "markdown",
   "id": "f13006a3",
   "metadata": {},
   "source": [
    "PART 1- Email Channel\n",
    "\n",
    "I will perform a controlled experiment where I increase the email ad budget for a selected test segment while keeping the control group at the same level in order to determine whether scaling the email channel is worthwhile. I would measure the following during a specific period of time (two weeks, for example):\n",
    "\n",
    "Success Metrics: ROI, CAC, new installs, and post-install revenue per user (e.g., 7-day ARPU)\n",
    "\n",
    "Guardrails: A threshold on CAC (e.g., CAC must remain under $X), and revenue must not dilute compared to control group\n",
    "\n",
    "Reallocating additional funds to this channel would be acceptable if scaled email maintains a strong return on investment while producing incremental installs and revenue without causing CAC to increase immensely.\n",
    "\n",
    "\n"
   ]
  },
  {
   "cell_type": "markdown",
   "id": "a8327746",
   "metadata": {},
   "source": [
    "PART 2- Two Additional Metrics\n",
    "\n",
    "1. Creative ID: I would prioritize collecting Creative ID, since it allows for detailed analysis of which ad creative inspired each user install. Not every ad creative works the same way; some might produce superior long-term value or higher conversion rates. By linking each install back to the creative that triggered it, we can conduct creative-level ROI analysis, identifying which messages or designs are the most effective. This will enhance performance without raising the overall budget by enabling us to optimize campaigns not just by channel but also by creative asset. Since creative variety is a crucial lever for campaign efficiency that we are presently unable to measure, I chose this metric.\n",
    "\n",
    "2. User Retention Metrics: I selected retention rates because ROI alone does not reveal whether users continue engaging after the install. A channel can achieve high acquisition rates and even a favorable return on investment in the short term, but if retention is poor, the long-term value may be unfavorable. Retention metrics allow us to go beyond surface-level efficiency and understand actual user quality. This makes it possible to allocate funds more wisely by giving preference to channels that offer high-LTV users in addition to affordable installs. Retention is frequently a key success factor for in-app or subscription monetization models.\n",
    "\n",
    "I would develop a creative-level attribution system that combines install source (Creative ID) with post-install retention data (Day 1, Day 7). By linking creatives to downstream engagement, we can identify which ads not only attract users but also drive long-term retention and monetization.\n",
    "\n",
    "Dashboard Metrics:\n",
    "\n",
    "ROI by creative\n",
    "\n",
    "CAC by creative\n",
    "\n",
    "Retention rates per creative\n",
    "\n",
    "Estimated LTV per creative\n",
    "\n",
    "Business Value:\n",
    "This project would empower the marketing team to shift from optimizing for clicks and installs to optimising for high-LTV users thanks to this project. We would give a priority to creatives that attract customers who genuinely stay, interact, and pay, as opposed to just scaling high-ROI ones. This would improve lifetime value and increase return on ad spend (ROAS).\n"
   ]
  },
  {
   "cell_type": "markdown",
   "id": "6a24e849",
   "metadata": {},
   "source": [
    "PART 3- Mid March Drop\n",
    "\n",
    "I chose these three metrics, because they are directly related to post-install monetization behavior and have the ability to identify the underlying reason for a sudden drop in iOS income despite a steady install volume.\n",
    "\n",
    "1. Conversion Rate (Install → Purchase):\n",
    "This is the most immediate indicator of where the breakdown is occurring. If installations remain consistent but revenue is declining, a fall in conversion rate would suggest that users are reaching the app but not making purchases. This could be due to UX friction, checkout bugs, or loss of trust.\n",
    "\n",
    "2. In-App Purchase Logs / Errors:\n",
    "I would investigate whether payment transactions are failing or being abandoned. Purchases may not be completing due to a backend problem or an iOS-specific payment method error. This can be promptly verified through a look over purchase success/failure logs.\n",
    "\n",
    "3. App Version or SDK Changes:\n",
    "If a new iOS app version was released around mid-March, it's possible a bug (e.g., broken payment button or login issue) was introduced. It may be possible to determine whether the problem is connected to a particular release through comparing revenue patterns with app version adoption.\n",
    "\n"
   ]
  }
 ],
 "metadata": {
  "kernelspec": {
   "display_name": "Python 3",
   "language": "python",
   "name": "python3"
  },
  "language_info": {
   "name": "python",
   "version": "3.9.0"
  }
 },
 "nbformat": 4,
 "nbformat_minor": 5
}
